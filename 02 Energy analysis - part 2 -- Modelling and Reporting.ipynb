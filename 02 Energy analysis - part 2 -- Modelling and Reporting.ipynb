{
 "cells": [
  {
   "cell_type": "markdown",
   "metadata": {},
   "source": [
    "# 02 - Energy Analysis - Part 2\n",
    "## Model training and evaluation"
   ]
  },
  {
   "cell_type": "code",
   "execution_count": null,
   "metadata": {
    "ExecuteTime": {
     "end_time": "2021-04-16T20:57:19.401947Z",
     "start_time": "2021-04-16T20:57:17.749452Z"
    }
   },
   "outputs": [],
   "source": [
    "# import libraries\n",
    "import os\n",
    "import numpy as np\n",
    "import pandas as pd\n",
    "import math\n",
    "from scipy import stats\n",
    "import sklearn.metrics as sklm\n",
    "import sklearn.model_selection as ms\n",
    "from sklearn import preprocessing\n",
    "import joblib\n",
    "import json\n",
    "from sklearn.model_selection import (\n",
    "    GridSearchCV,\n",
    "    StratifiedKFold,\n",
    "    KFold,\n",
    "    cross_val_score,\n",
    "    cross_val_predict,\n",
    ")\n",
    "import plotly.io as pio\n",
    "from plotly.subplots import make_subplots\n",
    "import plotly.figure_factory as ff\n",
    "import plotly.graph_objects as go\n",
    "import seaborn as sns\n",
    "import matplotlib.pyplot as plt\n",
    "import statsmodels.formula.api as smf\n",
    "import statsmodels.api as sm\n",
    "import xgboost as xgb\n",
    "import colorlover as cl\n",
    "\n",
    "# configs\n",
    "pd.options.display.float_format = \"{:,.2f}\".format\n",
    "%matplotlib inline\n",
    "plt.rcParams[\"figure.figsize\"] = 10, 6\n",
    "pio.templates.default = \"plotly_white\""
   ]
  },
  {
   "cell_type": "code",
   "execution_count": null,
   "metadata": {
    "ExecuteTime": {
     "end_time": "2021-04-16T20:57:19.463951Z",
     "start_time": "2021-04-16T20:57:19.452950Z"
    }
   },
   "outputs": [],
   "source": [
    "# import custom functions\n",
    "from myLib import data_analysis"
   ]
  },
  {
   "cell_type": "code",
   "execution_count": null,
   "metadata": {
    "ExecuteTime": {
     "end_time": "2021-04-16T20:57:20.594206Z",
     "start_time": "2021-04-16T20:57:20.584705Z"
    }
   },
   "outputs": [],
   "source": [
    "os.listdir(\"./data/processed\")"
   ]
  },
  {
   "cell_type": "code",
   "execution_count": null,
   "metadata": {
    "ExecuteTime": {
     "end_time": "2021-04-16T20:57:21.894308Z",
     "start_time": "2021-04-16T20:57:21.879310Z"
    }
   },
   "outputs": [],
   "source": [
    "data_bl = pd.read_csv(\"./data/processed/processed_data_bl.csv\", index_col=0)\n",
    "data_bl.head()"
   ]
  },
  {
   "cell_type": "code",
   "execution_count": null,
   "metadata": {
    "ExecuteTime": {
     "end_time": "2021-04-16T20:57:23.256605Z",
     "start_time": "2021-04-16T20:57:23.239604Z"
    }
   },
   "outputs": [],
   "source": [
    "data_bl.info()"
   ]
  },
  {
   "cell_type": "code",
   "execution_count": null,
   "metadata": {
    "ExecuteTime": {
     "end_time": "2021-04-16T20:57:24.649725Z",
     "start_time": "2021-04-16T20:57:24.632227Z"
    }
   },
   "outputs": [],
   "source": [
    "data_bl.ProdDate = data_bl.ProdDate.astype(\"datetime64[ns]\")"
   ]
  },
  {
   "cell_type": "code",
   "execution_count": null,
   "metadata": {
    "ExecuteTime": {
     "end_time": "2021-04-16T20:57:25.948580Z",
     "start_time": "2021-04-16T20:57:25.934577Z"
    }
   },
   "outputs": [],
   "source": [
    "data_bl.columns"
   ]
  },
  {
   "cell_type": "code",
   "execution_count": null,
   "metadata": {
    "ExecuteTime": {
     "end_time": "2021-04-16T20:57:26.969925Z",
     "start_time": "2021-04-16T20:57:26.964925Z"
    }
   },
   "outputs": [],
   "source": [
    "feat_cols = [\"Feed\"]\n",
    "print(feat_cols)\n",
    "\n",
    "feat_labs_cols = feat_cols + [\"Actual_kWh\"]\n",
    "print(feat_labs_cols)"
   ]
  },
  {
   "cell_type": "code",
   "execution_count": null,
   "metadata": {
    "ExecuteTime": {
     "end_time": "2021-04-16T20:57:28.208964Z",
     "start_time": "2021-04-16T20:57:28.191965Z"
    }
   },
   "outputs": [],
   "source": [
    "# split features into numpy array\n",
    "features = np.array(data_bl[feat_cols])\n",
    "print(features.shape)"
   ]
  },
  {
   "cell_type": "code",
   "execution_count": null,
   "metadata": {
    "ExecuteTime": {
     "end_time": "2021-04-16T20:57:29.354983Z",
     "start_time": "2021-04-16T20:57:29.338985Z"
    }
   },
   "outputs": [],
   "source": [
    "p = features.shape[1]\n",
    "print(p)"
   ]
  },
  {
   "cell_type": "code",
   "execution_count": null,
   "metadata": {
    "ExecuteTime": {
     "end_time": "2021-04-16T20:57:30.529995Z",
     "start_time": "2021-04-16T20:57:30.518496Z"
    }
   },
   "outputs": [],
   "source": [
    "# split label into numpy array\n",
    "label = np.array(data_bl[\"Actual_kWh\"])"
   ]
  },
  {
   "cell_type": "code",
   "execution_count": null,
   "metadata": {
    "ExecuteTime": {
     "end_time": "2021-04-16T20:57:32.587019Z",
     "start_time": "2021-04-16T20:57:32.574522Z"
    }
   },
   "outputs": [],
   "source": [
    "# train-test split\n",
    "np.random.seed(9988)\n",
    "\n",
    "indx = range(features.shape[0])\n",
    "indx = ms.train_test_split(\n",
    "    indx,\n",
    "    test_size=0.30,\n",
    ")\n",
    "\n",
    "x_train = features[indx[0], :]\n",
    "y_train = np.ravel(label[indx[0]])\n",
    "x_test = features[indx[1], :]\n",
    "y_test = np.ravel(label[indx[1]])"
   ]
  },
  {
   "cell_type": "code",
   "execution_count": null,
   "metadata": {
    "ExecuteTime": {
     "end_time": "2021-04-16T20:57:34.877863Z",
     "start_time": "2021-04-16T20:57:34.862767Z"
    }
   },
   "outputs": [],
   "source": [
    "# scale features\n",
    "scaler = preprocessing.StandardScaler().fit(x_train[:, :])\n",
    "x_train[:, :] = scaler.transform(x_train[:, :])\n",
    "x_test[:, :] = scaler.transform(x_test[:, :])\n",
    "\n",
    "# save scaler model\n",
    "joblib.dump(scaler, \"./models/model_feature_scaling.pkl\")\n",
    "\n",
    "x_train[:5, :]"
   ]
  },
  {
   "cell_type": "markdown",
   "metadata": {},
   "source": [
    "## Linear model\n",
    "Use as base reference"
   ]
  },
  {
   "cell_type": "code",
   "execution_count": null,
   "metadata": {
    "ExecuteTime": {
     "end_time": "2021-04-16T20:57:49.229967Z",
     "start_time": "2021-04-16T20:57:49.222966Z"
    }
   },
   "outputs": [],
   "source": [
    "x_train_constant = sm.add_constant(x_train)\n",
    "x_test_constant = sm.add_constant(x_test)"
   ]
  },
  {
   "cell_type": "code",
   "execution_count": null,
   "metadata": {
    "ExecuteTime": {
     "end_time": "2021-04-16T20:57:51.244263Z",
     "start_time": "2021-04-16T20:57:51.227764Z"
    }
   },
   "outputs": [],
   "source": [
    "model_lin = sm.OLS(y_train, x_train_constant)\n",
    "model_lin_fit = model_lin.fit()\n",
    "model_lin_fit.summary()"
   ]
  },
  {
   "cell_type": "code",
   "execution_count": null,
   "metadata": {
    "ExecuteTime": {
     "end_time": "2021-04-16T20:57:53.134834Z",
     "start_time": "2021-04-16T20:57:53.127834Z"
    }
   },
   "outputs": [],
   "source": [
    "y_hat = model_lin_fit.predict(x_train_constant)"
   ]
  },
  {
   "cell_type": "code",
   "execution_count": null,
   "metadata": {
    "ExecuteTime": {
     "end_time": "2021-04-16T20:57:54.823814Z",
     "start_time": "2021-04-16T20:57:54.804813Z"
    }
   },
   "outputs": [],
   "source": [
    "data_analysis.regression_metrics(y_train, y_hat, p)"
   ]
  },
  {
   "cell_type": "code",
   "execution_count": null,
   "metadata": {
    "ExecuteTime": {
     "end_time": "2021-04-16T20:57:56.838924Z",
     "start_time": "2021-04-16T20:57:56.111423Z"
    }
   },
   "outputs": [],
   "source": [
    "data_analysis.diagnostic_plots(x_train, y_train, y_hat)"
   ]
  },
  {
   "cell_type": "code",
   "execution_count": null,
   "metadata": {
    "ExecuteTime": {
     "end_time": "2021-04-16T20:57:58.233766Z",
     "start_time": "2021-04-16T20:57:58.219764Z"
    }
   },
   "outputs": [],
   "source": [
    "y_score = model_lin_fit.predict(x_test_constant)\n",
    "data_analysis.regression_metrics(y_test, y_score, p)"
   ]
  },
  {
   "cell_type": "code",
   "execution_count": null,
   "metadata": {
    "ExecuteTime": {
     "end_time": "2021-04-16T20:58:00.202472Z",
     "start_time": "2021-04-16T20:57:59.768974Z"
    }
   },
   "outputs": [],
   "source": [
    "data_analysis.diagnostic_plots(x_test, y_test, y_score)"
   ]
  },
  {
   "cell_type": "markdown",
   "metadata": {},
   "source": [
    "- Regression metrics look good with a slight curve"
   ]
  },
  {
   "cell_type": "markdown",
   "metadata": {},
   "source": [
    "## XGBoost model\n",
    "- Try XGBoost as it should fit the data better and is more robust against outliers"
   ]
  },
  {
   "cell_type": "code",
   "execution_count": null,
   "metadata": {
    "ExecuteTime": {
     "end_time": "2021-04-16T20:58:03.700428Z",
     "start_time": "2021-04-16T20:58:03.691430Z"
    }
   },
   "outputs": [],
   "source": [
    "# set up parameter grid\n",
    "xgbm_param_grid = {\n",
    "    \"learning_rate\": [0.01, 0.1, 0.3, 0.6, 0.9],\n",
    "    \"n_estimators\": [25, 50, 100, 150],\n",
    "    \"subsample\": [0.3, 0.5, 0.9],\n",
    "    \"colsample_bytree\": [0.3, 0.5, 0.7],\n",
    "    \"gamma\": [0.3, 0.5, 0.7],\n",
    "    \"max_depth\": [3, 5, 7, 9],\n",
    "    \"objective\": [\"reg:squarederror\"],\n",
    "}"
   ]
  },
  {
   "cell_type": "code",
   "execution_count": null,
   "metadata": {
    "ExecuteTime": {
     "end_time": "2021-04-16T20:58:05.498653Z",
     "start_time": "2021-04-16T20:58:05.481152Z"
    }
   },
   "outputs": [],
   "source": [
    "k_fold = KFold(n_splits=3)"
   ]
  },
  {
   "cell_type": "code",
   "execution_count": null,
   "metadata": {
    "ExecuteTime": {
     "end_time": "2021-04-16T20:58:07.030937Z",
     "start_time": "2021-04-16T20:58:07.013440Z"
    }
   },
   "outputs": [],
   "source": [
    "model_xgb = xgb.XGBRegressor()"
   ]
  },
  {
   "cell_type": "code",
   "execution_count": null,
   "metadata": {
    "ExecuteTime": {
     "end_time": "2021-04-16T20:58:09.355464Z",
     "start_time": "2021-04-16T20:58:09.351475Z"
    }
   },
   "outputs": [],
   "source": [
    "grid_mse = GridSearchCV(\n",
    "    estimator=model_xgb,\n",
    "    param_grid=xgbm_param_grid,\n",
    "    scoring=\"neg_mean_squared_error\",\n",
    "    cv=k_fold,\n",
    "    verbose=1,\n",
    "    n_jobs=8,\n",
    ")"
   ]
  },
  {
   "cell_type": "code",
   "execution_count": null,
   "metadata": {
    "ExecuteTime": {
     "end_time": "2021-04-16T20:59:23.427973Z",
     "start_time": "2021-04-16T20:58:11.386974Z"
    }
   },
   "outputs": [],
   "source": [
    "grid_mse.fit(x_train, y_train)"
   ]
  },
  {
   "cell_type": "code",
   "execution_count": null,
   "metadata": {
    "ExecuteTime": {
     "end_time": "2021-04-16T20:59:34.979543Z",
     "start_time": "2021-04-16T20:59:34.976540Z"
    }
   },
   "outputs": [],
   "source": [
    "# print the best parameters and lowest RMSE\n",
    "print(f\"Best parameters found: {grid_mse.best_params_}\")\n",
    "print(f\"Lowest RMSE found: {np.sqrt(np.abs(grid_mse.best_score_)):0.2f}\")"
   ]
  },
  {
   "cell_type": "code",
   "execution_count": null,
   "metadata": {
    "ExecuteTime": {
     "end_time": "2021-04-16T20:59:36.900424Z",
     "start_time": "2021-04-16T20:59:36.888936Z"
    }
   },
   "outputs": [],
   "source": [
    "# use best parameters\n",
    "model_xgb = xgb.XGBRegressor(\n",
    "    colsample_bytree=0.3,\n",
    "    gamma=0.3,\n",
    "    learning_rate=0.1,\n",
    "    max_depth=3,\n",
    "    n_estimators=50,\n",
    "    subsample=0.3,\n",
    ")"
   ]
  },
  {
   "cell_type": "code",
   "execution_count": null,
   "metadata": {
    "ExecuteTime": {
     "end_time": "2021-04-16T20:59:39.327142Z",
     "start_time": "2021-04-16T20:59:39.306643Z"
    }
   },
   "outputs": [],
   "source": [
    "# fit model\n",
    "model_xgb_fit = model_xgb.fit(x_train, y_train)"
   ]
  },
  {
   "cell_type": "code",
   "execution_count": null,
   "metadata": {
    "ExecuteTime": {
     "end_time": "2021-04-16T20:59:41.894444Z",
     "start_time": "2021-04-16T20:59:41.880444Z"
    }
   },
   "outputs": [],
   "source": [
    "y_hat = model_xgb_fit.predict(x_train)\n",
    "data_analysis.regression_metrics(y_train, y_hat, p)"
   ]
  },
  {
   "cell_type": "code",
   "execution_count": null,
   "metadata": {
    "ExecuteTime": {
     "end_time": "2021-04-16T20:59:44.170070Z",
     "start_time": "2021-04-16T20:59:43.696070Z"
    }
   },
   "outputs": [],
   "source": [
    "data_analysis.diagnostic_plots(x_train, y_train, y_hat)"
   ]
  },
  {
   "cell_type": "code",
   "execution_count": null,
   "metadata": {
    "ExecuteTime": {
     "end_time": "2021-04-16T20:59:45.842233Z",
     "start_time": "2021-04-16T20:59:45.830235Z"
    }
   },
   "outputs": [],
   "source": [
    "y_score = model_xgb_fit.predict(x_test)\n",
    "data_analysis.regression_metrics(y_test, y_score, p)"
   ]
  },
  {
   "cell_type": "code",
   "execution_count": null,
   "metadata": {
    "ExecuteTime": {
     "end_time": "2021-04-16T20:59:47.963956Z",
     "start_time": "2021-04-16T20:59:47.517457Z"
    }
   },
   "outputs": [],
   "source": [
    "data_analysis.diagnostic_plots(x_test, y_test, y_score)"
   ]
  },
  {
   "cell_type": "markdown",
   "metadata": {},
   "source": [
    "- Regression statistics look very similar, however model took out most of the non-linearity"
   ]
  },
  {
   "cell_type": "code",
   "execution_count": null,
   "metadata": {
    "ExecuteTime": {
     "end_time": "2021-04-16T20:59:51.325218Z",
     "start_time": "2021-04-16T20:59:51.311221Z"
    }
   },
   "outputs": [],
   "source": [
    "# save model model\n",
    "joblib.dump(model_xgb_fit, \"./models/model_predict_xgboost.pkl\")"
   ]
  },
  {
   "cell_type": "code",
   "execution_count": null,
   "metadata": {
    "ExecuteTime": {
     "end_time": "2021-04-16T20:59:53.278689Z",
     "start_time": "2021-04-16T20:59:53.273690Z"
    }
   },
   "outputs": [],
   "source": [
    "SEmodel = math.sqrt(sklm.mean_squared_error(y_test, y_score))\n",
    "print(f\"Standard error of the model is {SEmodel:0.2f}\")"
   ]
  },
  {
   "cell_type": "markdown",
   "metadata": {},
   "source": [
    "## Calculate energy performance using the baseline model"
   ]
  },
  {
   "cell_type": "code",
   "execution_count": null,
   "metadata": {
    "ExecuteTime": {
     "end_time": "2021-04-16T20:59:57.012070Z",
     "start_time": "2021-04-16T20:59:56.994570Z"
    }
   },
   "outputs": [],
   "source": [
    "os.listdir(\"./data/interim\")"
   ]
  },
  {
   "cell_type": "code",
   "execution_count": null,
   "metadata": {
    "ExecuteTime": {
     "end_time": "2021-04-16T20:59:58.700907Z",
     "start_time": "2021-04-16T20:59:58.684421Z"
    }
   },
   "outputs": [],
   "source": [
    "# load reporting period data\n",
    "data_rp = pd.read_csv(\"./data/interim/interim_data_rp.csv\", index_col=0)\n",
    "# apply filters similar to baseline data\n",
    "data_rp = data_rp[data_rp.ProdDate < \"2020-12-01\"]\n",
    "data_rp = data_rp[data_rp.Feed > 200]\n",
    "data_rp = data_rp[data_rp.Actual_kWh > 55000]\n",
    "data_rp.head()"
   ]
  },
  {
   "cell_type": "code",
   "execution_count": null,
   "metadata": {
    "ExecuteTime": {
     "end_time": "2021-04-16T21:00:01.722374Z",
     "start_time": "2021-04-16T21:00:01.705877Z"
    }
   },
   "outputs": [],
   "source": [
    "data_rp.info()"
   ]
  },
  {
   "cell_type": "code",
   "execution_count": null,
   "metadata": {
    "ExecuteTime": {
     "end_time": "2021-04-16T21:00:07.298853Z",
     "start_time": "2021-04-16T21:00:07.285854Z"
    }
   },
   "outputs": [],
   "source": [
    "data_rp.ProdDate = data_rp.ProdDate.astype(\"datetime64[ns]\")"
   ]
  },
  {
   "cell_type": "code",
   "execution_count": null,
   "metadata": {
    "ExecuteTime": {
     "end_time": "2021-04-16T21:00:09.189852Z",
     "start_time": "2021-04-16T21:00:09.185348Z"
    }
   },
   "outputs": [],
   "source": [
    "data_rp.columns"
   ]
  },
  {
   "cell_type": "code",
   "execution_count": null,
   "metadata": {
    "ExecuteTime": {
     "end_time": "2021-04-16T21:00:11.483295Z",
     "start_time": "2021-04-16T21:00:11.098294Z"
    }
   },
   "outputs": [],
   "source": [
    "scl = cl.scales[\"9\"][\"seq\"][\"Blues\"]\n",
    "colorscale = [[float(i) / float(len(scl) - 1), scl[i]] for i in range(len(scl))]\n",
    "\n",
    "trace = go.Scatter(\n",
    "    x=data_rp.Feed,\n",
    "    y=data_rp.Actual_kWh,\n",
    "    text=data_rp.index,\n",
    "    mode=\"markers+text\",\n",
    "    textposition=\"top center\",\n",
    "    hoverinfo=\"text\",\n",
    "    marker=dict(opacity=0.5, sizemin=5, sizemode=\"area\"),\n",
    ")\n",
    "trace_c = go.Histogram2dContour(\n",
    "    x=data_rp.Feed,\n",
    "    y=data_rp.Actual_kWh,\n",
    "    ncontours=5,\n",
    "    colorscale=colorscale,\n",
    "    showscale=False,\n",
    "    opacity=0.3,\n",
    ")\n",
    "data = [trace, trace_c]\n",
    "layout = go.Layout(title=\"Scatter plot\")\n",
    "fig = go.Figure(data=data, layout=layout)\n",
    "fig.show()"
   ]
  },
  {
   "cell_type": "code",
   "execution_count": null,
   "metadata": {
    "ExecuteTime": {
     "end_time": "2021-04-16T21:00:13.792126Z",
     "start_time": "2021-04-16T21:00:13.779628Z"
    }
   },
   "outputs": [],
   "source": [
    "data_rp.loc[\n",
    "    [\n",
    "        690,\n",
    "        364,\n",
    "        367,\n",
    "        578,\n",
    "        368,\n",
    "        302,\n",
    "        532,\n",
    "        582,\n",
    "        581,\n",
    "        580,\n",
    "        533,\n",
    "        450,\n",
    "        445,\n",
    "        654,\n",
    "        656,\n",
    "        449,\n",
    "        332,\n",
    "    ]\n",
    "].sort_values(by=\"ProdDate\")"
   ]
  },
  {
   "cell_type": "code",
   "execution_count": null,
   "metadata": {
    "ExecuteTime": {
     "end_time": "2021-04-16T21:00:18.640212Z",
     "start_time": "2021-04-16T21:00:18.633711Z"
    }
   },
   "outputs": [],
   "source": [
    "data_rp.drop(\n",
    "    [\n",
    "        690,\n",
    "        364,\n",
    "        367,\n",
    "        578,\n",
    "        368,\n",
    "        302,\n",
    "        532,\n",
    "        582,\n",
    "        581,\n",
    "        580,\n",
    "        533,\n",
    "        450,\n",
    "        445,\n",
    "        654,\n",
    "        656,\n",
    "        449,\n",
    "        332,\n",
    "    ],\n",
    "    inplace=True,\n",
    ")"
   ]
  },
  {
   "cell_type": "code",
   "execution_count": null,
   "metadata": {
    "ExecuteTime": {
     "end_time": "2021-04-16T21:00:20.745368Z",
     "start_time": "2021-04-16T21:00:20.352866Z"
    }
   },
   "outputs": [],
   "source": [
    "sns.lmplot(\n",
    "    data=data_rp,\n",
    "    x=\"Feed\",\n",
    "    y=\"Actual_kWh\",\n",
    "    lowess=True,\n",
    "    line_kws={\"color\": \"red\"},\n",
    "    aspect=1.8,\n",
    ")\n",
    "sns.kdeplot(x=data_rp.Feed, y=data_rp.Actual_kWh)\n",
    "plt.ylabel(\"Energy consumption [kWh]\")\n",
    "plt.xlabel(\"Feed to plant [tons]\")\n",
    "plt.show()"
   ]
  },
  {
   "cell_type": "code",
   "execution_count": null,
   "metadata": {
    "ExecuteTime": {
     "end_time": "2021-04-16T21:00:22.417283Z",
     "start_time": "2021-04-16T21:00:22.401783Z"
    }
   },
   "outputs": [],
   "source": [
    "# split features into numpy array\n",
    "features_rp = np.array(data_rp[feat_cols])\n",
    "print(features_rp.shape)"
   ]
  },
  {
   "cell_type": "code",
   "execution_count": null,
   "metadata": {
    "ExecuteTime": {
     "end_time": "2021-04-16T21:00:23.781358Z",
     "start_time": "2021-04-16T21:00:23.775359Z"
    }
   },
   "outputs": [],
   "source": [
    "os.listdir(\"./models\")"
   ]
  },
  {
   "cell_type": "code",
   "execution_count": null,
   "metadata": {
    "ExecuteTime": {
     "end_time": "2021-04-16T21:00:25.314799Z",
     "start_time": "2021-04-16T21:00:25.300300Z"
    }
   },
   "outputs": [],
   "source": [
    "# import models for reporting period\n",
    "scaler = joblib.load(\"./models/model_feature_scaling.pkl\")\n",
    "model_opt = joblib.load(\"./models/model_predict_xgboost.pkl\")"
   ]
  },
  {
   "cell_type": "code",
   "execution_count": null,
   "metadata": {
    "ExecuteTime": {
     "end_time": "2021-04-16T21:00:26.923985Z",
     "start_time": "2021-04-16T21:00:26.914983Z"
    }
   },
   "outputs": [],
   "source": [
    "x_rp = scaler.transform(features_rp[:, :])\n",
    "x_rp[:5, :]"
   ]
  },
  {
   "cell_type": "code",
   "execution_count": null,
   "metadata": {
    "ExecuteTime": {
     "end_time": "2021-04-16T21:00:28.145942Z",
     "start_time": "2021-04-16T21:00:28.128444Z"
    }
   },
   "outputs": [],
   "source": [
    "# predict expected consumption\n",
    "y_rp = model_opt.predict(x_rp)"
   ]
  },
  {
   "cell_type": "markdown",
   "metadata": {},
   "source": [
    "- Calculate the CUSUM = actual minus expected energy consumption\n",
    "- Compare against a target of 3% improvement"
   ]
  },
  {
   "cell_type": "code",
   "execution_count": null,
   "metadata": {
    "ExecuteTime": {
     "end_time": "2021-04-16T21:00:30.761117Z",
     "start_time": "2021-04-16T21:00:30.738117Z"
    }
   },
   "outputs": [],
   "source": [
    "data_rp[\"ExpectedkWh\"] = y_rp\n",
    "\n",
    "data_rp[\"Residuals\"] = data_rp.Actual_kWh - data_rp.ExpectedkWh\n",
    "data_rp[\"CUSUM\"] = data_rp.Residuals.cumsum()\n",
    "\n",
    "data_rp[\"TargetkWh\"] = data_rp.ExpectedkWh * 0.97\n",
    "data_rp[\"ResidualsT\"] = data_rp.TargetkWh - data_rp.ExpectedkWh\n",
    "data_rp[\"CUSUMT\"] = data_rp.ResidualsT.cumsum()\n",
    "\n",
    "print(\n",
    "    \"Cumulative performance against actual: {0:,.0f} kWh\".format(\n",
    "        data_rp[\"CUSUM\"].tail(1).values[0]\n",
    "    )\n",
    ")"
   ]
  },
  {
   "cell_type": "code",
   "execution_count": null,
   "metadata": {
    "ExecuteTime": {
     "end_time": "2021-04-16T21:00:35.157772Z",
     "start_time": "2021-04-16T21:00:35.116772Z"
    }
   },
   "outputs": [],
   "source": [
    "traceE = go.Scatter(\n",
    "    x=data_rp.ProdDate, y=data_rp.CUSUM, name=\"Cumulative energy performance [kWh]\"\n",
    ")\n",
    "traceT = go.Scatter(x=data_rp.ProdDate, y=data_rp.CUSUMT, name=\"3% Target [kWh]\")\n",
    "\n",
    "layout = go.Layout(\n",
    "    legend=dict(orientation=\"h\"),\n",
    "    title=\"Cumulative energy performance\",\n",
    "    xaxis=dict(\n",
    "        title=\"\",\n",
    "        titlefont=dict(\n",
    "            # size=18,\n",
    "            color=\"#7f7f7f\"\n",
    "        ),\n",
    "    ),\n",
    "    yaxis=dict(\n",
    "        title=\"Cumulative energy [kWh]\",\n",
    "        titlefont=dict(\n",
    "            # size=18,\n",
    "            color=\"#7f7f7f\"\n",
    "        ),\n",
    "    ),\n",
    ")\n",
    "data = [traceE, traceT]\n",
    "fig = go.Figure(data=data, layout=layout)\n",
    "fig.show()"
   ]
  },
  {
   "cell_type": "markdown",
   "metadata": {},
   "source": [
    "- Tracking energy performance shows about a 3% improvement up until May 2020 (downward trend)\n",
    "- However, from May 2020, about 6% more energy was consumed than expected\n",
    "- After following up with the plant, from around May 2020, more electrical equipment was added that is not related to plant processing, but is fed from the same electrical supply\n",
    "- The baseline model needs to be revisited using the second half of 2020 as the baseline and additional relevant variables incorporated"
   ]
  },
  {
   "cell_type": "code",
   "execution_count": null,
   "metadata": {
    "ExecuteTime": {
     "end_time": "2021-04-16T21:00:40.767877Z",
     "start_time": "2021-04-16T21:00:40.746876Z"
    }
   },
   "outputs": [],
   "source": [
    "data_rp.to_csv(\"./data/processed/processed_data_rp.csv\")"
   ]
  }
 ],
 "metadata": {
  "file_extension": ".py",
  "kernelspec": {
   "display_name": "Python 3",
   "language": "python",
   "name": "python3"
  },
  "language_info": {
   "codemirror_mode": {
    "name": "ipython",
    "version": 3
   },
   "file_extension": ".py",
   "mimetype": "text/x-python",
   "name": "python",
   "nbconvert_exporter": "python",
   "pygments_lexer": "ipython3",
   "version": "3.7.7"
  },
  "mimetype": "text/x-python",
  "name": "python",
  "npconvert_exporter": "python",
  "pygments_lexer": "ipython3",
  "version": 3
 },
 "nbformat": 4,
 "nbformat_minor": 2
}

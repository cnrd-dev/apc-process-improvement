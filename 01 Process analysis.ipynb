{
 "cells": [
  {
   "cell_type": "markdown",
   "metadata": {},
   "source": [
    "# 01 - Process Analysis\n",
    "- What is APC adoption by the operators?\n",
    "- Did the process improve?\n",
    "\n",
    "*Analysis period: 2019-10-01 to 2020-12-09*"
   ]
  },
  {
   "cell_type": "code",
   "execution_count": null,
   "metadata": {
    "ExecuteTime": {
     "end_time": "2021-04-16T20:59:07.943974Z",
     "start_time": "2021-04-16T20:59:07.903976Z"
    }
   },
   "outputs": [],
   "source": [
    "# import libraries\n",
    "import os\n",
    "import numpy as np\n",
    "import pandas as pd\n",
    "import datetime\n",
    "import plotly.io as pio\n",
    "from plotly.subplots import make_subplots\n",
    "import plotly.figure_factory as ff\n",
    "import plotly.graph_objects as go\n",
    "import plotly.express as px\n",
    "import seaborn as sns\n",
    "import matplotlib.pyplot as plt\n",
    "import statsmodels.stats as stats\n",
    "\n",
    "# configs\n",
    "pd.options.display.float_format = \"{:,.1f}\".format\n",
    "%matplotlib inline\n",
    "plt.rcParams[\"figure.figsize\"] = 10, 7\n",
    "pio.templates.default = \"plotly_white\""
   ]
  },
  {
   "cell_type": "code",
   "execution_count": null,
   "metadata": {
    "ExecuteTime": {
     "end_time": "2021-04-16T20:59:08.563973Z",
     "start_time": "2021-04-16T20:59:08.550473Z"
    }
   },
   "outputs": [],
   "source": [
    "# import custom functions\n",
    "from myLib import data_analysis"
   ]
  },
  {
   "cell_type": "markdown",
   "metadata": {},
   "source": [
    "## Prepare data"
   ]
  },
  {
   "cell_type": "code",
   "execution_count": null,
   "metadata": {
    "ExecuteTime": {
     "end_time": "2021-04-16T20:59:12.113474Z",
     "start_time": "2021-04-16T20:59:11.113473Z"
    }
   },
   "outputs": [],
   "source": [
    "data = pd.read_csv(\n",
    "    \"./data/raw/process-data-raw-1min.csv.gz\", compression=\"gzip\", index_col=0\n",
    ")\n",
    "data.head()"
   ]
  },
  {
   "cell_type": "code",
   "execution_count": null,
   "metadata": {
    "ExecuteTime": {
     "end_time": "2021-04-16T20:59:13.678973Z",
     "start_time": "2021-04-16T20:59:13.663974Z"
    }
   },
   "outputs": [],
   "source": [
    "data.tail()"
   ]
  },
  {
   "cell_type": "code",
   "execution_count": null,
   "metadata": {
    "ExecuteTime": {
     "end_time": "2021-04-16T20:59:18.948474Z",
     "start_time": "2021-04-16T20:59:15.452474Z"
    },
    "scrolled": true
   },
   "outputs": [],
   "source": [
    "data.index = data.index.astype(\"datetime64[ns]\")\n",
    "data.info()"
   ]
  },
  {
   "cell_type": "code",
   "execution_count": null,
   "metadata": {
    "ExecuteTime": {
     "end_time": "2021-04-16T20:59:18.979473Z",
     "start_time": "2021-04-16T20:59:18.966475Z"
    }
   },
   "outputs": [],
   "source": [
    "data.columns"
   ]
  },
  {
   "cell_type": "code",
   "execution_count": null,
   "metadata": {
    "ExecuteTime": {
     "end_time": "2021-04-16T20:59:19.010473Z",
     "start_time": "2021-04-16T20:59:18.996974Z"
    }
   },
   "outputs": [],
   "source": [
    "# change column names to reference columns with dot notation\n",
    "data.columns = data.columns.str.replace(\".\", \"_\", regex=False)\n",
    "data.columns = data.columns.str.replace(\"-\", \"_\", regex=False)"
   ]
  },
  {
   "cell_type": "code",
   "execution_count": null,
   "metadata": {
    "ExecuteTime": {
     "end_time": "2021-04-16T20:59:20.606974Z",
     "start_time": "2021-04-16T20:59:20.595974Z"
    }
   },
   "outputs": [],
   "source": [
    "data.columns"
   ]
  },
  {
   "cell_type": "markdown",
   "metadata": {},
   "source": [
    "## Measure the adoption of APC"
   ]
  },
  {
   "cell_type": "code",
   "execution_count": null,
   "metadata": {
    "ExecuteTime": {
     "end_time": "2021-04-16T20:59:26.262441Z",
     "start_time": "2021-04-16T20:59:26.083942Z"
    }
   },
   "outputs": [],
   "source": [
    "data[\"Date\"] = data.index.date\n",
    "data.head()"
   ]
  },
  {
   "cell_type": "code",
   "execution_count": null,
   "metadata": {
    "ExecuteTime": {
     "end_time": "2021-04-16T21:01:30.213526Z",
     "start_time": "2021-04-16T21:01:30.196023Z"
    }
   },
   "outputs": [],
   "source": [
    "# calculation to enable data to be rolled up to daily values\n",
    "data[\"process_util\"] = data.PROCESS_RUN_SIGNAL / (60 * 24)\n",
    "data[\"apc_util\"] = data.APC_MODE / (60 * 24)"
   ]
  },
  {
   "cell_type": "code",
   "execution_count": null,
   "metadata": {
    "ExecuteTime": {
     "end_time": "2021-04-16T21:01:32.026756Z",
     "start_time": "2021-04-16T21:01:31.919757Z"
    }
   },
   "outputs": [],
   "source": [
    "data_util = data[[\"Date\", \"process_util\", \"apc_util\"]].groupby(by=[\"Date\"]).sum()\n",
    "data_util.index = data_util.index.astype(\"datetime64[ns]\")\n",
    "data_util[\"Year Month\"] = data_util.index.strftime(\"%Y-%m\")\n",
    "data_util.head()"
   ]
  },
  {
   "cell_type": "code",
   "execution_count": null,
   "metadata": {
    "ExecuteTime": {
     "end_time": "2021-04-16T21:01:33.916250Z",
     "start_time": "2021-04-16T21:01:33.901751Z"
    }
   },
   "outputs": [],
   "source": [
    "data_util.columns = [\"Process Utilisation\", \"APC Utilisation\", \"Year Month\"]"
   ]
  },
  {
   "cell_type": "code",
   "execution_count": null,
   "metadata": {
    "ExecuteTime": {
     "end_time": "2021-04-16T21:01:36.193939Z",
     "start_time": "2021-04-16T21:01:35.740939Z"
    }
   },
   "outputs": [],
   "source": [
    "data_analysis.plot_timeseries(\n",
    "    df=data_util,\n",
    "    y_traces=[\"Process Utilisation\", \"APC Utilisation\"],\n",
    "    title=\"Process and APC utilisation trends\",\n",
    ")"
   ]
  },
  {
   "cell_type": "code",
   "execution_count": null,
   "metadata": {
    "ExecuteTime": {
     "end_time": "2021-04-16T21:01:39.864379Z",
     "start_time": "2021-04-16T21:01:39.735877Z"
    }
   },
   "outputs": [],
   "source": [
    "fig = px.box(\n",
    "    data_util, x=\"Year Month\", y=\"APC Utilisation\", title=\"Plant adoption of APC\"\n",
    ")\n",
    "fig.show()"
   ]
  },
  {
   "cell_type": "markdown",
   "metadata": {},
   "source": [
    "- APC was commissioned in October 2019 and thus utilisation is low as expected.\n",
    "- Utilisation was also low in April 2020 and June 2020, the first being due to COVID lockdown and the latter being plant shutdown."
   ]
  },
  {
   "cell_type": "code",
   "execution_count": null,
   "metadata": {
    "ExecuteTime": {
     "end_time": "2021-04-16T21:01:43.259216Z",
     "start_time": "2021-04-16T21:01:43.240216Z"
    }
   },
   "outputs": [],
   "source": [
    "filter_util = (\n",
    "    (data_util[\"Year Month\"] != \"2019-10\")\n",
    "    | (data_util[\"Year Month\"] != \"2020-04\")\n",
    "    | (data_util[\"Year Month\"] != \"2020-06\")\n",
    ")\n",
    "average_utilisation = data_util[\"APC Utilisation\"][filter_util].mean()\n",
    "print(\n",
    "    f\"Average APC utilisation, excluding Oct 2019, Apr 2020 and Jun 2020: {average_utilisation*100:0.2f}%\"\n",
    ")"
   ]
  },
  {
   "cell_type": "code",
   "execution_count": null,
   "metadata": {
    "ExecuteTime": {
     "end_time": "2021-04-16T21:01:46.823991Z",
     "start_time": "2021-04-16T21:01:46.776492Z"
    }
   },
   "outputs": [],
   "source": [
    "fig = px.box(data_util[filter_util], y=\"APC Utilisation\", title=\"Plant adoption of APC\")\n",
    "fig.show()"
   ]
  },
  {
   "cell_type": "code",
   "execution_count": null,
   "metadata": {
    "ExecuteTime": {
     "end_time": "2021-04-16T21:01:48.791943Z",
     "start_time": "2021-04-16T21:01:48.771443Z"
    }
   },
   "outputs": [],
   "source": [
    "data_util.to_csv(\"./data/processed/apc_utilisation.csv.gz\", compression=\"gzip\")"
   ]
  },
  {
   "cell_type": "markdown",
   "metadata": {},
   "source": [
    "## Are there process improvement?\n",
    "- Did stability improve?\n",
    "- Did throughput increase?"
   ]
  },
  {
   "cell_type": "code",
   "execution_count": null,
   "metadata": {
    "ExecuteTime": {
     "end_time": "2021-04-16T21:01:51.348072Z",
     "start_time": "2021-04-16T21:01:51.322573Z"
    }
   },
   "outputs": [],
   "source": [
    "# filter data to include only when the main process was running\n",
    "data_run = data[data.PROCESS_RUN_SIGNAL > 0]"
   ]
  },
  {
   "cell_type": "code",
   "execution_count": null,
   "metadata": {
    "ExecuteTime": {
     "end_time": "2021-04-16T21:01:53.144579Z",
     "start_time": "2021-04-16T21:01:53.129577Z"
    }
   },
   "outputs": [],
   "source": [
    "data_run.head()"
   ]
  },
  {
   "cell_type": "code",
   "execution_count": null,
   "metadata": {
    "ExecuteTime": {
     "end_time": "2021-04-16T21:01:54.694194Z",
     "start_time": "2021-04-16T21:01:54.675194Z"
    }
   },
   "outputs": [],
   "source": [
    "# Define APC ON and APC OFF periods based on APC Controller mode\n",
    "ctrl_threshold = 0.5\n",
    "data_run[\"period\"] = \"APC OFF\"\n",
    "data_run.period[(data_run.APC_MODE >= ctrl_threshold)] = \"APC ON\""
   ]
  },
  {
   "cell_type": "code",
   "execution_count": null,
   "metadata": {
    "ExecuteTime": {
     "end_time": "2021-04-16T21:01:57.930443Z",
     "start_time": "2021-04-16T21:01:57.913444Z"
    }
   },
   "outputs": [],
   "source": [
    "data_run.columns"
   ]
  },
  {
   "cell_type": "markdown",
   "metadata": {},
   "source": [
    "- There were some cases where the tags went stale but quality information of the data was not included.\n",
    "- Use shift function to remove stale data, i.e. where wieghtometer readings were \"stuck\" at exaxtly the same value."
   ]
  },
  {
   "cell_type": "code",
   "execution_count": null,
   "metadata": {
    "ExecuteTime": {
     "end_time": "2021-04-16T21:02:00.625467Z",
     "start_time": "2021-04-16T21:02:00.569967Z"
    }
   },
   "outputs": [],
   "source": [
    "data_run[\"check_cv_a\"] = data_run.CNVYR_WT_A_READING.eq(\n",
    "    data_run.CNVYR_WT_A_READING.shift()\n",
    ")\n",
    "data_run = data_run[data_run[\"check_cv_a\"] == False]"
   ]
  },
  {
   "cell_type": "code",
   "execution_count": null,
   "metadata": {
    "ExecuteTime": {
     "end_time": "2021-04-16T21:02:02.219946Z",
     "start_time": "2021-04-16T21:02:02.174948Z"
    }
   },
   "outputs": [],
   "source": [
    "data_run[\"check_cv_b\"] = data_run.CNVYR_WT_B_READING.eq(\n",
    "    data_run.CNVYR_WT_B_READING.shift()\n",
    ")\n",
    "data_run = data_run[data_run[\"check_cv_b\"] == False]"
   ]
  },
  {
   "cell_type": "code",
   "execution_count": null,
   "metadata": {
    "ExecuteTime": {
     "end_time": "2021-04-16T21:02:06.465461Z",
     "start_time": "2021-04-16T21:02:05.654961Z"
    },
    "scrolled": false
   },
   "outputs": [],
   "source": [
    "# calculate the average of the two weightometers\n",
    "data_run[\"CV_AVG\"] = (data_run.CNVYR_WT_A_READING + data_run.CNVYR_WT_B_READING) / 2\n",
    "feature = \"CV_AVG\"\n",
    "x1 = data_run[feature][(data_run.period == \"APC OFF\") & (data_run[feature] >= 0)]\n",
    "x2 = data_run[feature][(data_run.period == \"APC ON\") & (data_run[feature] >= 0)]\n",
    "data_analysis.plot_graphs(\n",
    "    x1,\n",
    "    x2,\n",
    "    data_run,\n",
    "    feature,\n",
    "    \"Feed conveyor throughput split between 'APC off' and 'APC on'\",\n",
    ")\n",
    "display(data_analysis.generate_stats(x1, x2))"
   ]
  },
  {
   "cell_type": "markdown",
   "metadata": {},
   "source": [
    "- There are many times where the process was running, but no tons was fed to the plant.\n",
    "- Based on the lower whisker of APC off, data will be filtered to be above 230 tph."
   ]
  },
  {
   "cell_type": "code",
   "execution_count": null,
   "metadata": {
    "ExecuteTime": {
     "end_time": "2021-04-16T21:02:49.971374Z",
     "start_time": "2021-04-16T21:02:49.190874Z"
    }
   },
   "outputs": [],
   "source": [
    "min_filter_tons = 230\n",
    "x1 = data_run[feature][\n",
    "    (data_run.period == \"APC OFF\") & (data_run[feature] >= min_filter_tons)\n",
    "]\n",
    "x2 = data_run[feature][\n",
    "    (data_run.period == \"APC ON\") & (data_run[feature] >= min_filter_tons)\n",
    "]\n",
    "data_analysis.plot_graphs(\n",
    "    x1,\n",
    "    x2,\n",
    "    data_run,\n",
    "    feature,\n",
    "    f\"Feed conveyor throughput split between 'APC off' and 'APC on' where feed was more than {min_filter_tons}tph\",\n",
    ")\n",
    "display(data_analysis.generate_stats(x1, x2))"
   ]
  },
  {
   "cell_type": "markdown",
   "metadata": {},
   "source": [
    "- Show a more realistic result: 7.5% increase in throughput (based on mean) and 24% reduction in standard deviation.\n",
    "- The results may be biased as there is on 12.2% of APC on data points available.\n",
    "- From the histogram for APC on, the distribution is pushed to the maximum throughput."
   ]
  },
  {
   "cell_type": "markdown",
   "metadata": {},
   "source": [
    "## Check if the distributions are statistically different\n",
    "- https://www.marsja.se/how-to-perform-a-two-sample-t-test-with-python-3-different-methods/\n",
    "- https://www.marsja.se/how-to-perform-mann-whitney-u-test-in-python-with-scipy-and-pingouin/"
   ]
  },
  {
   "cell_type": "code",
   "execution_count": null,
   "metadata": {
    "ExecuteTime": {
     "end_time": "2021-04-16T21:03:18.709986Z",
     "start_time": "2021-04-16T21:03:18.706988Z"
    }
   },
   "outputs": [],
   "source": [
    "from scipy import stats"
   ]
  },
  {
   "cell_type": "code",
   "execution_count": null,
   "metadata": {
    "ExecuteTime": {
     "end_time": "2021-04-16T21:03:21.403154Z",
     "start_time": "2021-04-16T21:03:21.382652Z"
    }
   },
   "outputs": [],
   "source": [
    "# Checking the Normality of Data\n",
    "stats.shapiro(x1)"
   ]
  },
  {
   "cell_type": "code",
   "execution_count": null,
   "metadata": {
    "ExecuteTime": {
     "end_time": "2021-04-16T21:03:24.298574Z",
     "start_time": "2021-04-16T21:03:24.271574Z"
    }
   },
   "outputs": [],
   "source": [
    "stats.shapiro(x2)"
   ]
  },
  {
   "cell_type": "markdown",
   "metadata": {},
   "source": [
    "- Here, the null hypothesis is that the data follows a normal distribution. \n",
    "- Thus, we can infer that the data from both groups is NOT normally distributed. Use Mann-Whitney U Test."
   ]
  },
  {
   "cell_type": "markdown",
   "metadata": {
    "ExecuteTime": {
     "end_time": "2021-04-15T15:29:14.686974Z",
     "start_time": "2021-04-15T15:29:14.669934Z"
    }
   },
   "source": [
    "\n",
    "## When do you use Mann-Whitney U Test?\n",
    "You can use the Mann-Whitney U test when your outcome/dependent variable is either ordinal or continous but not normally distributed."
   ]
  },
  {
   "cell_type": "code",
   "execution_count": null,
   "metadata": {
    "ExecuteTime": {
     "end_time": "2021-04-16T21:03:27.626007Z",
     "start_time": "2021-04-16T21:03:27.529508Z"
    }
   },
   "outputs": [],
   "source": [
    "stats.mannwhitneyu(x1, x2)"
   ]
  },
  {
   "cell_type": "markdown",
   "metadata": {},
   "source": [
    "- p-value less than 0.05, thus distrubtions are statistically different."
   ]
  }
 ],
 "metadata": {
  "kernelspec": {
   "display_name": "Python 3",
   "language": "python",
   "name": "python3"
  },
  "language_info": {
   "codemirror_mode": {
    "name": "ipython",
    "version": 3
   },
   "file_extension": ".py",
   "mimetype": "text/x-python",
   "name": "python",
   "nbconvert_exporter": "python",
   "pygments_lexer": "ipython3",
   "version": "3.7.7"
  }
 },
 "nbformat": 4,
 "nbformat_minor": 4
}

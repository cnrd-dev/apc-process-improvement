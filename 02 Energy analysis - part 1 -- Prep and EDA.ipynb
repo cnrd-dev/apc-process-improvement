{
 "cells": [
  {
   "cell_type": "markdown",
   "metadata": {},
   "source": [
    "# 02 - Energy Analysis - Part 1\n",
    "## Data preparation and EDA"
   ]
  },
  {
   "cell_type": "markdown",
   "metadata": {},
   "source": [
    "### Data preparation"
   ]
  },
  {
   "cell_type": "code",
   "execution_count": null,
   "metadata": {
    "ExecuteTime": {
     "end_time": "2021-04-16T20:52:57.573749Z",
     "start_time": "2021-04-16T20:52:55.724249Z"
    }
   },
   "outputs": [],
   "source": [
    "# import libraries\n",
    "import os\n",
    "import numpy as np\n",
    "import pandas as pd\n",
    "import datetime\n",
    "import math\n",
    "from sklearn.preprocessing import StandardScaler\n",
    "from sklearn.impute import SimpleImputer\n",
    "import plotly.io as pio\n",
    "from plotly.subplots import make_subplots\n",
    "import plotly.express as px\n",
    "import plotly.figure_factory as ff\n",
    "import plotly.graph_objects as go\n",
    "import seaborn as sns\n",
    "import matplotlib.pyplot as plt\n",
    "import statsmodels.formula.api as smf\n",
    "import statsmodels.api as sm\n",
    "\n",
    "# configs\n",
    "%matplotlib inline\n",
    "plt.rcParams[\"figure.figsize\"] = 10, 6\n",
    "pio.templates.default = \"plotly_white\"\n",
    "pd.options.display.float_format = \"{:,.2f}\".format"
   ]
  },
  {
   "cell_type": "code",
   "execution_count": null,
   "metadata": {
    "ExecuteTime": {
     "end_time": "2021-04-16T20:53:01.603751Z",
     "start_time": "2021-04-16T20:53:01.593751Z"
    }
   },
   "outputs": [],
   "source": [
    "# load my custom code\n",
    "from myLib import data_analysis"
   ]
  },
  {
   "cell_type": "code",
   "execution_count": null,
   "metadata": {
    "ExecuteTime": {
     "end_time": "2021-04-16T20:53:03.866975Z",
     "start_time": "2021-04-16T20:53:03.846475Z"
    }
   },
   "outputs": [],
   "source": [
    "os.listdir(\"./data/raw\")"
   ]
  },
  {
   "cell_type": "markdown",
   "metadata": {},
   "source": [
    "#### Import energy data"
   ]
  },
  {
   "cell_type": "code",
   "execution_count": null,
   "metadata": {
    "ExecuteTime": {
     "end_time": "2021-04-16T20:53:07.664462Z",
     "start_time": "2021-04-16T20:53:07.629462Z"
    }
   },
   "outputs": [],
   "source": [
    "data_power = pd.read_csv(\"./data/raw/power-data-raw.csv\", index_col=0)\n",
    "data_power.head()"
   ]
  },
  {
   "cell_type": "code",
   "execution_count": null,
   "metadata": {
    "ExecuteTime": {
     "end_time": "2021-04-16T20:53:12.593117Z",
     "start_time": "2021-04-16T20:53:12.563616Z"
    }
   },
   "outputs": [],
   "source": [
    "data_power.index = data_power.index.astype(\"datetime64[ns]\")"
   ]
  },
  {
   "cell_type": "code",
   "execution_count": null,
   "metadata": {
    "ExecuteTime": {
     "end_time": "2021-04-16T20:53:17.134833Z",
     "start_time": "2021-04-16T20:53:15.095834Z"
    }
   },
   "outputs": [],
   "source": [
    "data_analysis.plot_timeseries(\n",
    "    df=data_power,\n",
    "    y_traces=[\"Substation_total_kW\", \"Village_kW\", \"Mine_kW\"],\n",
    "    title=\"Energy data trends\",\n",
    ")"
   ]
  },
  {
   "cell_type": "markdown",
   "metadata": {},
   "source": [
    "- There is some missing data in the Village_kW\n",
    "- There appears to be an increase in energy consumption around May 2020"
   ]
  },
  {
   "cell_type": "code",
   "execution_count": null,
   "metadata": {
    "ExecuteTime": {
     "end_time": "2021-04-16T20:53:20.498708Z",
     "start_time": "2021-04-16T20:53:20.484704Z"
    }
   },
   "outputs": [],
   "source": [
    "# check for null values\n",
    "data_power.isnull().mean()"
   ]
  },
  {
   "cell_type": "markdown",
   "metadata": {},
   "source": [
    "- Impute missing values limiting it to 2019 values as consumption increased in 2020."
   ]
  },
  {
   "cell_type": "code",
   "execution_count": null,
   "metadata": {
    "ExecuteTime": {
     "end_time": "2021-04-16T20:53:23.211310Z",
     "start_time": "2021-04-16T20:53:23.190809Z"
    }
   },
   "outputs": [],
   "source": [
    "imputer = SimpleImputer(missing_values=np.nan, strategy=\"mean\")\n",
    "datetime_slice = (data_power.index >= datetime.datetime(2019, 1, 1)) & (\n",
    "    data_power.index <= datetime.datetime(2019, 12, 31)\n",
    ")\n",
    "data_power.loc[datetime_slice, [\"Village_kW\"]] = imputer.fit_transform(\n",
    "    data_power.loc[datetime_slice, [\"Village_kW\"]]\n",
    ")"
   ]
  },
  {
   "cell_type": "markdown",
   "metadata": {},
   "source": [
    "- Calculate the plant energy consumption = Total - Mine - Village\n",
    "- Note values and converted from kW to kWh by multiplying by 0.5 (half-hourly data)\n",
    "- Add filter to ensure values are greater than zero due to imputed values"
   ]
  },
  {
   "cell_type": "code",
   "execution_count": null,
   "metadata": {
    "ExecuteTime": {
     "end_time": "2021-04-16T20:53:26.978487Z",
     "start_time": "2021-04-16T20:53:26.959988Z"
    }
   },
   "outputs": [],
   "source": [
    "data_power[\"Plant_kWh\"] = (\n",
    "    data_power.Substation_total_kW - data_power.Village_kW - data_power.Mine_kW\n",
    ") * 0.5\n",
    "data_power[\"Plant_kWh\"] = data_power[data_power.Plant_kWh > 0]"
   ]
  },
  {
   "cell_type": "markdown",
   "metadata": {},
   "source": [
    "- Daily plant production is measure at 22:00, thus need to timeshift energy values to ensure daily totals are accurate"
   ]
  },
  {
   "cell_type": "code",
   "execution_count": null,
   "metadata": {
    "ExecuteTime": {
     "end_time": "2021-04-16T20:53:31.735809Z",
     "start_time": "2021-04-16T20:53:31.716312Z"
    }
   },
   "outputs": [],
   "source": [
    "data_power[\"ProdDateTime\"] = data_power.index + datetime.timedelta(hours=1.5)\n",
    "data_power[\"ProdDate\"] = data_power.ProdDateTime.dt.date\n",
    "data_power.head()"
   ]
  },
  {
   "cell_type": "markdown",
   "metadata": {},
   "source": [
    "- Group data by daily totals"
   ]
  },
  {
   "cell_type": "code",
   "execution_count": null,
   "metadata": {
    "ExecuteTime": {
     "end_time": "2021-04-16T20:53:34.494954Z",
     "start_time": "2021-04-16T20:53:34.477452Z"
    }
   },
   "outputs": [],
   "source": [
    "data_energy = (\n",
    "    data_power[[\"ProdDate\", \"Plant_kWh\"]].groupby(by=[\"ProdDate\"], as_index=False).sum()\n",
    ")\n",
    "data_energy.columns = [\"DateOnly\", \"Actual-kWh\"]\n",
    "data_energy.DateOnly = data_energy.DateOnly.astype(\"datetime64[ns]\")\n",
    "data_energy.head()"
   ]
  },
  {
   "cell_type": "markdown",
   "metadata": {},
   "source": [
    "#### Import production data\n",
    "- data_prod (referred by Production1) are the values from the historian, available from Oct 2019\n",
    "- data_prod_bi (referred by Production2) are the values from BI data that is calculated using weekly production hours, available for 2019"
   ]
  },
  {
   "cell_type": "code",
   "execution_count": null,
   "metadata": {
    "ExecuteTime": {
     "end_time": "2021-04-16T20:53:38.370940Z",
     "start_time": "2021-04-16T20:53:38.359440Z"
    }
   },
   "outputs": [],
   "source": [
    "data_prod = pd.read_csv(\"./data/raw/idx-historian-raw.csv\", index_col=0)\n",
    "data_prod.TimeStamp = data_prod.TimeStamp.astype(\"datetime64[ns]\")\n",
    "data_prod.head()"
   ]
  },
  {
   "cell_type": "markdown",
   "metadata": {},
   "source": [
    "- Columns 3028 and 3301 are the tags for the two weightometers\n",
    "- One is used as a backup, thus the average of these will be used"
   ]
  },
  {
   "cell_type": "code",
   "execution_count": null,
   "metadata": {
    "ExecuteTime": {
     "end_time": "2021-04-16T20:53:40.975082Z",
     "start_time": "2021-04-16T20:53:40.967078Z"
    }
   },
   "outputs": [],
   "source": [
    "data_prod_bi = pd.read_csv(\"./data/raw/bi-production-data-raw.csv\")\n",
    "data_prod_bi.DateOnly = data_prod_bi.DateOnly.astype(\"datetime64[ns]\")\n",
    "data_prod_bi.head()"
   ]
  },
  {
   "cell_type": "markdown",
   "metadata": {},
   "source": [
    "### Combine production data"
   ]
  },
  {
   "cell_type": "code",
   "execution_count": null,
   "metadata": {
    "ExecuteTime": {
     "end_time": "2021-04-16T20:53:46.261216Z",
     "start_time": "2021-04-16T20:53:46.246217Z"
    }
   },
   "outputs": [],
   "source": [
    "data_prod[\"Production1\"] = (data_prod[\"3028\"] + data_prod[\"3301\"]) / 2"
   ]
  },
  {
   "cell_type": "code",
   "execution_count": null,
   "metadata": {
    "ExecuteTime": {
     "end_time": "2021-04-16T20:53:48.059377Z",
     "start_time": "2021-04-16T20:53:48.039880Z"
    }
   },
   "outputs": [],
   "source": [
    "data_prod.columns"
   ]
  },
  {
   "cell_type": "code",
   "execution_count": null,
   "metadata": {
    "ExecuteTime": {
     "end_time": "2021-04-16T20:53:49.454675Z",
     "start_time": "2021-04-16T20:53:49.436674Z"
    }
   },
   "outputs": [],
   "source": [
    "data_prod.columns = [\"DateOnly\", \"3028\", \"3301\", \"Production1\"]"
   ]
  },
  {
   "cell_type": "code",
   "execution_count": null,
   "metadata": {
    "ExecuteTime": {
     "end_time": "2021-04-16T20:53:51.268282Z",
     "start_time": "2021-04-16T20:53:51.245782Z"
    }
   },
   "outputs": [],
   "source": [
    "data_combined = pd.merge(\n",
    "    data_energy[[\"DateOnly\", \"Actual-kWh\"]],\n",
    "    data_prod[[\"DateOnly\", \"Production1\"]],\n",
    "    on=\"DateOnly\",\n",
    ")\n",
    "data_combined.head()"
   ]
  },
  {
   "cell_type": "code",
   "execution_count": null,
   "metadata": {
    "ExecuteTime": {
     "end_time": "2021-04-16T20:53:53.159043Z",
     "start_time": "2021-04-16T20:53:53.153542Z"
    }
   },
   "outputs": [],
   "source": [
    "len(data_combined)"
   ]
  },
  {
   "cell_type": "code",
   "execution_count": null,
   "metadata": {
    "ExecuteTime": {
     "end_time": "2021-04-16T20:53:54.833235Z",
     "start_time": "2021-04-16T20:53:54.818236Z"
    }
   },
   "outputs": [],
   "source": [
    "data_combined_bi = pd.merge(\n",
    "    data_combined[[\"DateOnly\", \"Actual-kWh\", \"Production1\"]],\n",
    "    data_prod_bi[[\"DateOnly\", \"Feed\"]],\n",
    "    on=\"DateOnly\",\n",
    "    how=\"outer\",\n",
    ")\n",
    "data_combined_bi.head()"
   ]
  },
  {
   "cell_type": "code",
   "execution_count": null,
   "metadata": {
    "ExecuteTime": {
     "end_time": "2021-04-16T20:53:57.081068Z",
     "start_time": "2021-04-16T20:53:57.068068Z"
    }
   },
   "outputs": [],
   "source": [
    "data_combined_bi.tail()"
   ]
  },
  {
   "cell_type": "code",
   "execution_count": null,
   "metadata": {
    "ExecuteTime": {
     "end_time": "2021-04-16T20:53:58.693827Z",
     "start_time": "2021-04-16T20:53:58.688328Z"
    }
   },
   "outputs": [],
   "source": [
    "data_combined_bi.columns"
   ]
  },
  {
   "cell_type": "code",
   "execution_count": null,
   "metadata": {
    "ExecuteTime": {
     "end_time": "2021-04-16T20:54:00.352409Z",
     "start_time": "2021-04-16T20:54:00.339911Z"
    }
   },
   "outputs": [],
   "source": [
    "data_combined_bi.columns = [\"DateOnly\", \"Actual_kWh\", \"Production1\", \"Production2\"]"
   ]
  },
  {
   "cell_type": "code",
   "execution_count": null,
   "metadata": {
    "ExecuteTime": {
     "end_time": "2021-04-16T20:54:02.305453Z",
     "start_time": "2021-04-16T20:54:02.242952Z"
    }
   },
   "outputs": [],
   "source": [
    "data_analysis.plot_timeseries(\n",
    "    df=data_combined_bi,\n",
    "    y_traces=[\"Production1\", \"Production2\"],\n",
    "    title=\"Production data\",\n",
    "    x_trace=\"DateOnly\",\n",
    "    use_index=False,\n",
    ")"
   ]
  },
  {
   "cell_type": "markdown",
   "metadata": {},
   "source": [
    "- There are some production values in the BI dataset that are clear outliers as the plant capacity is 25k tons\n",
    "- The BI data also seems to over estimate production based on more accurate readings from the historian"
   ]
  },
  {
   "cell_type": "code",
   "execution_count": null,
   "metadata": {
    "ExecuteTime": {
     "end_time": "2021-04-16T20:54:09.141075Z",
     "start_time": "2021-04-16T20:54:09.122077Z"
    }
   },
   "outputs": [],
   "source": [
    "# gap in Production1 data\n",
    "data_combined_bi[\n",
    "    (data_combined_bi.DateOnly > \"2019-06-01\")\n",
    "    & (data_combined_bi.DateOnly < \"2019-06-10\")\n",
    "]"
   ]
  },
  {
   "cell_type": "code",
   "execution_count": null,
   "metadata": {
    "ExecuteTime": {
     "end_time": "2021-04-16T20:54:11.760299Z",
     "start_time": "2021-04-16T20:54:11.749799Z"
    }
   },
   "outputs": [],
   "source": [
    "# gap in Production1 data\n",
    "data_combined_bi[\n",
    "    (data_combined_bi.DateOnly > \"2019-09-07\")\n",
    "    & (data_combined_bi.DateOnly < \"2019-10-08\")\n",
    "]"
   ]
  },
  {
   "cell_type": "code",
   "execution_count": null,
   "metadata": {
    "ExecuteTime": {
     "end_time": "2021-04-16T20:54:16.642907Z",
     "start_time": "2021-04-16T20:54:16.630907Z"
    }
   },
   "outputs": [],
   "source": [
    "filter0 = (data_combined_bi.DateOnly > \"2019-06-06\") & (\n",
    "    data_combined_bi.DateOnly < \"2019-09-10\"\n",
    ")\n",
    "data_combined_bi[\"difference\"] = (\n",
    "    data_combined_bi.Production1 - data_combined_bi.Production2\n",
    ")"
   ]
  },
  {
   "cell_type": "code",
   "execution_count": null,
   "metadata": {
    "ExecuteTime": {
     "end_time": "2021-04-16T20:54:18.518529Z",
     "start_time": "2021-04-16T20:54:18.504030Z"
    }
   },
   "outputs": [],
   "source": [
    "mean_difference = data_combined_bi.difference[filter0].mean()\n",
    "print(f\"Mean difference in production: {mean_difference:0.2f} tph\")"
   ]
  },
  {
   "cell_type": "code",
   "execution_count": null,
   "metadata": {
    "ExecuteTime": {
     "end_time": "2021-04-16T20:54:20.642078Z",
     "start_time": "2021-04-16T20:54:20.528078Z"
    }
   },
   "outputs": [],
   "source": [
    "fig = px.box(\n",
    "    data_combined_bi[filter0],\n",
    "    y=\"difference\",\n",
    "    title=\"Difference between the two production datasets\",\n",
    ")\n",
    "fig.show()"
   ]
  },
  {
   "cell_type": "markdown",
   "metadata": {},
   "source": [
    "- Data from the BI dataset overestimates production\n",
    "- Create an offset by calculating the mean and filtering using the whiskers of the box plot"
   ]
  },
  {
   "cell_type": "code",
   "execution_count": null,
   "metadata": {
    "ExecuteTime": {
     "end_time": "2021-04-16T20:54:26.268850Z",
     "start_time": "2021-04-16T20:54:26.224854Z"
    }
   },
   "outputs": [],
   "source": [
    "filter00 = (\n",
    "    filter0\n",
    "    & (data_combined_bi.difference > -7000)\n",
    "    & (data_combined_bi.difference < 4000)\n",
    ")\n",
    "data_analysis.plot_timeseries(\n",
    "    df=data_combined_bi[filter00],\n",
    "    y_traces=[\"difference\"],\n",
    "    title=\"Compare difference between production data\",\n",
    ")"
   ]
  },
  {
   "cell_type": "code",
   "execution_count": null,
   "metadata": {
    "ExecuteTime": {
     "end_time": "2021-04-16T20:54:30.018118Z",
     "start_time": "2021-04-16T20:54:30.001620Z"
    }
   },
   "outputs": [],
   "source": [
    "mean_difference = data_combined_bi.difference[filter00].mean()\n",
    "print(f\"Mean difference in production: {mean_difference:0.2f} tph\")"
   ]
  },
  {
   "cell_type": "markdown",
   "metadata": {},
   "source": [
    "- Create a new column, called Feed, with the adjusted production values included"
   ]
  },
  {
   "cell_type": "code",
   "execution_count": null,
   "metadata": {
    "ExecuteTime": {
     "end_time": "2021-04-16T20:54:32.095449Z",
     "start_time": "2021-04-16T20:54:32.076952Z"
    }
   },
   "outputs": [],
   "source": [
    "data_combined_bi[\"Feed\"] = data_combined_bi.Production1"
   ]
  },
  {
   "cell_type": "code",
   "execution_count": null,
   "metadata": {
    "ExecuteTime": {
     "end_time": "2021-04-16T20:54:33.552451Z",
     "start_time": "2021-04-16T20:54:33.541449Z"
    }
   },
   "outputs": [],
   "source": [
    "filter1 = (data_combined_bi.DateOnly < \"2019-06-06\") & (\n",
    "    data_combined_bi.Production2 < 25000\n",
    ")\n",
    "data_combined_bi.Feed[filter1] = data_combined_bi.Production2[filter1] + mean_difference"
   ]
  },
  {
   "cell_type": "code",
   "execution_count": null,
   "metadata": {
    "ExecuteTime": {
     "end_time": "2021-04-16T20:54:35.303979Z",
     "start_time": "2021-04-16T20:54:35.288480Z"
    }
   },
   "outputs": [],
   "source": [
    "filter2 = (\n",
    "    (data_combined_bi.DateOnly > \"2019-09-09\")\n",
    "    & (data_combined_bi.DateOnly < \"2019-10-01\")\n",
    "    & (data_combined_bi.Production2 < 25000)\n",
    ")\n",
    "data_combined_bi.Feed[filter2] = data_combined_bi.Production2[filter2] + mean_difference\n",
    "data_combined_bi.Feed[data_combined_bi.Feed < 0] = 0"
   ]
  },
  {
   "cell_type": "code",
   "execution_count": null,
   "metadata": {
    "ExecuteTime": {
     "end_time": "2021-04-16T20:54:36.931600Z",
     "start_time": "2021-04-16T20:54:36.854600Z"
    }
   },
   "outputs": [],
   "source": [
    "data_analysis.plot_timeseries(\n",
    "    df=data_combined_bi,\n",
    "    y_traces=[\"Production1\", \"Production2\", \"Feed\"],\n",
    "    title=\"Production data\",\n",
    "    x_trace=\"DateOnly\",\n",
    "    use_index=False,\n",
    ")"
   ]
  },
  {
   "cell_type": "code",
   "execution_count": null,
   "metadata": {
    "ExecuteTime": {
     "end_time": "2021-04-16T20:54:48.519278Z",
     "start_time": "2021-04-16T20:54:48.494778Z"
    }
   },
   "outputs": [],
   "source": [
    "data_combined_bi.drop([\"difference\"], axis=1, inplace=True)\n",
    "data_combined_bi.to_csv(\"./data/raw/combined-data-raw.csv\")"
   ]
  },
  {
   "cell_type": "code",
   "execution_count": null,
   "metadata": {
    "ExecuteTime": {
     "end_time": "2021-04-16T20:54:50.578304Z",
     "start_time": "2021-04-16T20:54:50.557306Z"
    }
   },
   "outputs": [],
   "source": [
    "data_combined_bi.head()"
   ]
  },
  {
   "cell_type": "markdown",
   "metadata": {},
   "source": [
    "## Prepare for modelling and evaluation"
   ]
  },
  {
   "cell_type": "code",
   "execution_count": null,
   "metadata": {
    "ExecuteTime": {
     "end_time": "2021-04-16T20:54:52.842157Z",
     "start_time": "2021-04-16T20:54:52.822658Z"
    }
   },
   "outputs": [],
   "source": [
    "raw_data = pd.read_csv(\"./data/raw/combined-data-raw.csv\", index_col=0)\n",
    "raw_data.head()"
   ]
  },
  {
   "cell_type": "code",
   "execution_count": null,
   "metadata": {
    "ExecuteTime": {
     "end_time": "2021-04-16T20:54:54.391011Z",
     "start_time": "2021-04-16T20:54:54.383011Z"
    }
   },
   "outputs": [],
   "source": [
    "raw_data.tail()"
   ]
  },
  {
   "cell_type": "code",
   "execution_count": null,
   "metadata": {
    "ExecuteTime": {
     "end_time": "2021-04-16T20:54:55.924125Z",
     "start_time": "2021-04-16T20:54:55.915626Z"
    }
   },
   "outputs": [],
   "source": [
    "raw_data.columns"
   ]
  },
  {
   "cell_type": "code",
   "execution_count": null,
   "metadata": {
    "ExecuteTime": {
     "end_time": "2021-04-16T20:54:57.645231Z",
     "start_time": "2021-04-16T20:54:57.635731Z"
    }
   },
   "outputs": [],
   "source": [
    "raw_data.columns = [\"ProdDate\", \"Actual_kWh\", \"Production1\", \"Production2\", \"Feed\"]"
   ]
  },
  {
   "cell_type": "code",
   "execution_count": null,
   "metadata": {
    "ExecuteTime": {
     "end_time": "2021-04-16T20:54:58.931813Z",
     "start_time": "2021-04-16T20:54:58.912814Z"
    }
   },
   "outputs": [],
   "source": [
    "raw_data.info()"
   ]
  },
  {
   "cell_type": "code",
   "execution_count": null,
   "metadata": {
    "ExecuteTime": {
     "end_time": "2021-04-16T20:55:00.357476Z",
     "start_time": "2021-04-16T20:55:00.341474Z"
    }
   },
   "outputs": [],
   "source": [
    "# set date formats\n",
    "raw_data.ProdDate = raw_data.ProdDate.astype(\"datetime64[ns]\")\n",
    "raw_data[\"Weekday\"] = raw_data.ProdDate.dt.day_name()"
   ]
  },
  {
   "cell_type": "code",
   "execution_count": null,
   "metadata": {
    "ExecuteTime": {
     "end_time": "2021-04-16T20:55:01.674653Z",
     "start_time": "2021-04-16T20:55:01.656156Z"
    }
   },
   "outputs": [],
   "source": [
    "raw_data.head()"
   ]
  },
  {
   "cell_type": "code",
   "execution_count": null,
   "metadata": {
    "ExecuteTime": {
     "end_time": "2021-04-16T20:55:03.085551Z",
     "start_time": "2021-04-16T20:55:03.064551Z"
    }
   },
   "outputs": [],
   "source": [
    "raw_data.describe()"
   ]
  },
  {
   "cell_type": "markdown",
   "metadata": {},
   "source": [
    "- The baseline period for analysis will be the first 9 months, before APC was implemented\n",
    "- The reporting period will be from October 2019 where APC was utilised and will be compared with the baseline period"
   ]
  },
  {
   "cell_type": "code",
   "execution_count": null,
   "metadata": {
    "ExecuteTime": {
     "end_time": "2021-04-16T20:55:07.469885Z",
     "start_time": "2021-04-16T20:55:07.460385Z"
    }
   },
   "outputs": [],
   "source": [
    "# set period labels\n",
    "raw_data[\"BRP\"] = \"\"\n",
    "\n",
    "# baseline period data\n",
    "raw_data.BRP[\n",
    "    (raw_data.ProdDate >= \"2019-01-01\") & (raw_data.ProdDate < \"2019-10-01\")\n",
    "] = \"BL\"\n",
    "\n",
    "# reporting period data\n",
    "raw_data.BRP[(raw_data.ProdDate >= \"2019-10-01\")] = \"RP\""
   ]
  },
  {
   "cell_type": "code",
   "execution_count": null,
   "metadata": {
    "ExecuteTime": {
     "end_time": "2021-04-16T20:55:09.297105Z",
     "start_time": "2021-04-16T20:55:09.285103Z"
    }
   },
   "outputs": [],
   "source": [
    "# split data set after clean up\n",
    "interim_data_bl = raw_data[raw_data[\"BRP\"] == \"BL\"]\n",
    "interim_data_rp = raw_data[raw_data[\"BRP\"] == \"RP\"]\n",
    "print(len(interim_data_bl.ProdDate))\n",
    "print(len(interim_data_rp.ProdDate))"
   ]
  },
  {
   "cell_type": "code",
   "execution_count": null,
   "metadata": {
    "ExecuteTime": {
     "end_time": "2021-04-16T20:55:11Z",
     "start_time": "2021-04-16T20:55:10.974497Z"
    }
   },
   "outputs": [],
   "source": [
    "interim_data_path = \"./data/interim/\"\n",
    "interim_data_bl.to_csv(interim_data_path + \"interim_data_bl.csv\")\n",
    "interim_data_rp.to_csv(interim_data_path + \"interim_data_rp.csv\")"
   ]
  },
  {
   "cell_type": "markdown",
   "metadata": {},
   "source": [
    "## Exploratory data analysis"
   ]
  },
  {
   "cell_type": "code",
   "execution_count": null,
   "metadata": {
    "ExecuteTime": {
     "end_time": "2021-04-16T20:55:13.353700Z",
     "start_time": "2021-04-16T20:55:13.336700Z"
    }
   },
   "outputs": [],
   "source": [
    "os.listdir(\"./data/interim\")"
   ]
  },
  {
   "cell_type": "code",
   "execution_count": null,
   "metadata": {
    "ExecuteTime": {
     "end_time": "2021-04-16T20:55:14.995565Z",
     "start_time": "2021-04-16T20:55:14.983567Z"
    }
   },
   "outputs": [],
   "source": [
    "data_bl = pd.read_csv(\"./data/interim/interim_data_bl.csv\", index_col=0)\n",
    "data_bl.head()"
   ]
  },
  {
   "cell_type": "code",
   "execution_count": null,
   "metadata": {
    "ExecuteTime": {
     "end_time": "2021-04-16T20:55:16.529863Z",
     "start_time": "2021-04-16T20:55:16.515861Z"
    }
   },
   "outputs": [],
   "source": [
    "data_bl.info()"
   ]
  },
  {
   "cell_type": "code",
   "execution_count": null,
   "metadata": {
    "ExecuteTime": {
     "end_time": "2021-04-16T20:55:17.800721Z",
     "start_time": "2021-04-16T20:55:17.792216Z"
    }
   },
   "outputs": [],
   "source": [
    "data_bl.ProdDate = data_bl.ProdDate.astype(\"datetime64[ns]\")"
   ]
  },
  {
   "cell_type": "code",
   "execution_count": null,
   "metadata": {
    "ExecuteTime": {
     "end_time": "2021-04-16T20:55:20.355224Z",
     "start_time": "2021-04-16T20:55:20.335224Z"
    }
   },
   "outputs": [],
   "source": [
    "data_bl = data_bl.replace([np.inf, -np.inf], np.nan)\n",
    "data_bl.fillna(0, inplace=True)"
   ]
  },
  {
   "cell_type": "code",
   "execution_count": null,
   "metadata": {
    "ExecuteTime": {
     "end_time": "2021-04-16T20:55:22.168560Z",
     "start_time": "2021-04-16T20:55:22.150562Z"
    }
   },
   "outputs": [],
   "source": [
    "data_bl.describe()"
   ]
  },
  {
   "cell_type": "code",
   "execution_count": null,
   "metadata": {
    "ExecuteTime": {
     "end_time": "2021-04-16T20:55:23.547667Z",
     "start_time": "2021-04-16T20:55:23.542670Z"
    }
   },
   "outputs": [],
   "source": [
    "len(data_bl.ProdDate)"
   ]
  },
  {
   "cell_type": "markdown",
   "metadata": {},
   "source": [
    "- Check for stale Feed values, i.e. values that got stuck from the historian and where interpolated incorrectly"
   ]
  },
  {
   "cell_type": "code",
   "execution_count": null,
   "metadata": {
    "ExecuteTime": {
     "end_time": "2021-04-16T20:55:26.270772Z",
     "start_time": "2021-04-16T20:55:26.251773Z"
    }
   },
   "outputs": [],
   "source": [
    "data_bl[\"check_feed\"] = data_bl.Feed.eq(data_bl.Feed.shift())\n",
    "data_bl = data_bl[data_bl[\"check_feed\"] == False]"
   ]
  },
  {
   "cell_type": "code",
   "execution_count": null,
   "metadata": {
    "ExecuteTime": {
     "end_time": "2021-04-16T20:55:27.835586Z",
     "start_time": "2021-04-16T20:55:27.827590Z"
    }
   },
   "outputs": [],
   "source": [
    "len(data_bl.ProdDate)"
   ]
  },
  {
   "cell_type": "code",
   "execution_count": null,
   "metadata": {
    "ExecuteTime": {
     "end_time": "2021-04-16T20:55:29.121960Z",
     "start_time": "2021-04-16T20:55:29.110962Z"
    }
   },
   "outputs": [],
   "source": [
    "data_bl.columns"
   ]
  },
  {
   "cell_type": "code",
   "execution_count": null,
   "metadata": {
    "ExecuteTime": {
     "end_time": "2021-04-16T20:55:31.059487Z",
     "start_time": "2021-04-16T20:55:31.018988Z"
    }
   },
   "outputs": [],
   "source": [
    "# plot histograms for the labels below\n",
    "feat_cols = [\"Feed\"]\n",
    "feat_labs_cols = feat_cols + [\"Actual_kWh\"]\n",
    "data_analysis.plot_hist(feat_labs_cols, data_bl)"
   ]
  },
  {
   "cell_type": "markdown",
   "metadata": {},
   "source": [
    "- Zero values stand out, typically when the plant was not running\n",
    "- Let's look at the daily average energy profiles"
   ]
  },
  {
   "cell_type": "code",
   "execution_count": null,
   "metadata": {
    "ExecuteTime": {
     "end_time": "2021-04-16T20:55:37.304239Z",
     "start_time": "2021-04-16T20:55:37.231240Z"
    }
   },
   "outputs": [],
   "source": [
    "# plot historgram per weekday\n",
    "x1 = data_bl.Actual_kWh[data_bl.Weekday == \"Monday\"]\n",
    "x2 = data_bl.Actual_kWh[data_bl.Weekday == \"Tuesday\"]\n",
    "x3 = data_bl.Actual_kWh[data_bl.Weekday == \"Wednesday\"]\n",
    "x4 = data_bl.Actual_kWh[data_bl.Weekday == \"Thursday\"]\n",
    "x5 = data_bl.Actual_kWh[data_bl.Weekday == \"Friday\"]\n",
    "x6 = data_bl.Actual_kWh[data_bl.Weekday == \"Saturday\"]\n",
    "x7 = data_bl.Actual_kWh[data_bl.Weekday == \"Sunday\"]\n",
    "hist_data = [x1, x2, x3, x4, x5, x6, x7]\n",
    "group_labels = [\"Mon\", \"Tue\", \"Wed\", \"Thu\", \"Fri\", \"Sat\", \"Sun\"]\n",
    "\n",
    "fig = ff.create_distplot(\n",
    "    hist_data,\n",
    "    group_labels,\n",
    "    bin_size=data_analysis.hist_bin_width_fd(data_bl.Actual_kWh),\n",
    "    show_rug=False,\n",
    "    curve_type=\"kde\",\n",
    ")\n",
    "\n",
    "fig[\"layout\"].update(title=\"Histogram for energy consumption per weekday\")\n",
    "fig.show()"
   ]
  },
  {
   "cell_type": "markdown",
   "metadata": {},
   "source": [
    "- The plant does not normally operate on Sundays, thus a non-productive period\n",
    "- Thurdays also stands out and this is when weekly maintenance occurs during the day shift"
   ]
  },
  {
   "cell_type": "code",
   "execution_count": null,
   "metadata": {
    "ExecuteTime": {
     "end_time": "2021-04-16T20:55:41.085764Z",
     "start_time": "2021-04-16T20:55:41.072760Z"
    }
   },
   "outputs": [],
   "source": [
    "# Filter data for the productive period, both energy and production\n",
    "data_bl = data_bl[data_bl.Actual_kWh > 55000]\n",
    "data_bl = data_bl[data_bl.Feed > 200]"
   ]
  },
  {
   "cell_type": "code",
   "execution_count": null,
   "metadata": {
    "ExecuteTime": {
     "end_time": "2021-04-16T20:55:43.564499Z",
     "start_time": "2021-04-16T20:55:43.423497Z"
    }
   },
   "outputs": [],
   "source": [
    "# compute the correlation matrix\n",
    "data_bl_corr = data_bl[feat_labs_cols].corr()\n",
    "\n",
    "# set up the matplotlib figure\n",
    "f, ax = plt.subplots(figsize=(10, 10))\n",
    "\n",
    "# generate a custom diverging colormap\n",
    "cmap = sns.diverging_palette(220, 10, as_cmap=True)\n",
    "\n",
    "# draw the heatmap with the mask and correct aspect ratio\n",
    "sns.heatmap(\n",
    "    data_bl_corr,\n",
    "    cmap=cmap,\n",
    "    vmax=0.3,\n",
    "    center=0,\n",
    "    annot=True,\n",
    "    robust=True,\n",
    "    square=True,\n",
    "    linewidths=0.5,\n",
    "    cbar_kws={\"shrink\": 0.5},\n",
    ")\n",
    "plt.show()"
   ]
  },
  {
   "cell_type": "code",
   "execution_count": null,
   "metadata": {
    "ExecuteTime": {
     "end_time": "2021-04-16T20:55:47.820714Z",
     "start_time": "2021-04-16T20:55:47.817213Z"
    }
   },
   "outputs": [],
   "source": [
    "print(feat_cols)"
   ]
  },
  {
   "cell_type": "code",
   "execution_count": null,
   "metadata": {
    "ExecuteTime": {
     "end_time": "2021-04-16T20:55:49.740994Z",
     "start_time": "2021-04-16T20:55:49.729497Z"
    }
   },
   "outputs": [],
   "source": [
    "# remove columns\n",
    "feat_cols = [\"Feed\"]\n",
    "print(feat_cols)\n",
    "\n",
    "feat_labs_cols = feat_cols + [\"Actual_kWh\"]\n",
    "print(feat_labs_cols)"
   ]
  },
  {
   "cell_type": "code",
   "execution_count": null,
   "metadata": {
    "ExecuteTime": {
     "end_time": "2021-04-16T20:55:52.001110Z",
     "start_time": "2021-04-16T20:55:51.971610Z"
    }
   },
   "outputs": [],
   "source": [
    "# scatter plot\n",
    "import colorlover as cl\n",
    "\n",
    "scl = cl.scales[\"9\"][\"seq\"][\"Blues\"]\n",
    "colorscale = [[float(i) / float(len(scl) - 1), scl[i]] for i in range(len(scl))]\n",
    "\n",
    "trace = go.Scatter(\n",
    "    x=data_bl.Feed,\n",
    "    y=data_bl.Actual_kWh,\n",
    "    text=data_bl.index,\n",
    "    mode=\"markers+text\",\n",
    "    textposition=\"top center\",\n",
    "    hoverinfo=\"text\",\n",
    "    marker=dict(opacity=0.5, sizemin=5, sizemode=\"area\"),\n",
    ")\n",
    "trace_c = go.Histogram2dContour(\n",
    "    x=data_bl.Feed,\n",
    "    y=data_bl.Actual_kWh,\n",
    "    ncontours=5,\n",
    "    colorscale=colorscale,\n",
    "    showscale=False,\n",
    "    opacity=0.3,\n",
    ")\n",
    "data = [trace, trace_c]\n",
    "layout = go.Layout(title=\"Scatter plot\")\n",
    "fig = go.Figure(data=data, layout=layout)\n",
    "fig.show()"
   ]
  },
  {
   "cell_type": "code",
   "execution_count": null,
   "metadata": {
    "ExecuteTime": {
     "end_time": "2021-04-16T20:55:58.259987Z",
     "start_time": "2021-04-16T20:55:58.245987Z"
    },
    "code_folding": []
   },
   "outputs": [],
   "source": [
    "# locate rows that appear to be outliers\n",
    "data_bl.loc[[244, 211, 162, 251, 218, 159, 56, 130, 74, 55, 28]].sort_values(\n",
    "    by=\"ProdDate\"\n",
    ")"
   ]
  },
  {
   "cell_type": "code",
   "execution_count": null,
   "metadata": {
    "ExecuteTime": {
     "end_time": "2021-04-16T20:56:00.706011Z",
     "start_time": "2021-04-16T20:56:00.694510Z"
    }
   },
   "outputs": [],
   "source": [
    "# drop\n",
    "data_bl.drop([244, 211, 162, 251, 218, 159, 56, 130, 74, 55, 28], inplace=True)"
   ]
  },
  {
   "cell_type": "code",
   "execution_count": null,
   "metadata": {
    "ExecuteTime": {
     "end_time": "2021-04-16T20:56:02.780936Z",
     "start_time": "2021-04-16T20:56:02.491435Z"
    }
   },
   "outputs": [],
   "source": [
    "sns.lmplot(\n",
    "    data=data_bl,\n",
    "    x=\"Feed\",\n",
    "    y=\"Actual_kWh\",\n",
    "    lowess=True,\n",
    "    line_kws={\"color\": \"red\"},\n",
    "    aspect=1.6,\n",
    ")\n",
    "sns.kdeplot(data=data_bl, x=\"Feed\", y=\"Actual_kWh\")\n",
    "plt.show()"
   ]
  },
  {
   "cell_type": "code",
   "execution_count": null,
   "metadata": {
    "ExecuteTime": {
     "end_time": "2021-04-16T20:56:07.564971Z",
     "start_time": "2021-04-16T20:56:07.555474Z"
    }
   },
   "outputs": [],
   "source": [
    "data_bl.to_csv(\"./data/processed/processed_data_bl.csv\")"
   ]
  }
 ],
 "metadata": {
  "kernelspec": {
   "display_name": "Python 3",
   "language": "python",
   "name": "python3"
  },
  "language_info": {
   "codemirror_mode": {
    "name": "ipython",
    "version": 3
   },
   "file_extension": ".py",
   "mimetype": "text/x-python",
   "name": "python",
   "nbconvert_exporter": "python",
   "pygments_lexer": "ipython3",
   "version": "3.7.7"
  }
 },
 "nbformat": 4,
 "nbformat_minor": 2
}
